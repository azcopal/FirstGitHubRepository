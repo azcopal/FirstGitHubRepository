{
 "cells": [
  {
   "cell_type": "code",
   "execution_count": 1,
   "id": "eb3fa7e7-5799-47c0-93cf-7df9867765c3",
   "metadata": {},
   "outputs": [],
   "source": [
    "def add_elements(a,b):\n",
    "    result = []\n",
    "    for item_a, item_b in zip(a,b):\n",
    "        result.append(item_a + item_b)\n",
    "    return result"
   ]
  },
  {
   "cell_type": "code",
   "execution_count": 7,
   "id": "b95229a7-15d2-4589-a281-4e342a404a57",
   "metadata": {},
   "outputs": [],
   "source": [
    "with open('input.txt','r') as file:\n",
    "    lines = file.readlines()\n",
    "\n",
    "last_line1, last_line2 = lines[-2], lines[-1]"
   ]
  },
  {
   "cell_type": "code",
   "execution_count": 9,
   "id": "1722c5d4-ac71-4757-89b1-74bcd7c40e58",
   "metadata": {},
   "outputs": [],
   "source": [
    "list1 = list(map(int, last_line1[:-1].split(',')))\n",
    "list2 = list(map(int, last_line2[:-1].split(',')))"
   ]
  },
  {
   "cell_type": "code",
   "execution_count": 11,
   "id": "db892f19-c3e1-4f4b-971b-3c86a441c56a",
   "metadata": {},
   "outputs": [],
   "source": [
    "new_list = add_elements(list1, list2)\n",
    "\n",
    "with open('input.txt','a') as file:\n",
    "    for i, item in enumerate(new_list):\n",
    "        file.write(str(item))\n",
    "        if i < len(new_list) - 1:\n",
    "            file.write(',')\n",
    "        else:\n",
    "            file.write('\\n')"
   ]
  },
  {
   "cell_type": "code",
   "execution_count": null,
   "id": "79c0c6d5-00e9-4742-b226-b05f22d9314c",
   "metadata": {},
   "outputs": [],
   "source": []
  }
 ],
 "metadata": {
  "kernelspec": {
   "display_name": "Python 3 (ipykernel)",
   "language": "python",
   "name": "python3"
  },
  "language_info": {
   "codemirror_mode": {
    "name": "ipython",
    "version": 3
   },
   "file_extension": ".py",
   "mimetype": "text/x-python",
   "name": "python",
   "nbconvert_exporter": "python",
   "pygments_lexer": "ipython3",
   "version": "3.12.7"
  }
 },
 "nbformat": 4,
 "nbformat_minor": 5
}
